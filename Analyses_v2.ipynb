{
 "cells": [
  {
   "cell_type": "markdown",
   "id": "f68e9d9e",
   "metadata": {
    "cell_id": "00000-59530453-8f72-4821-9454-9770713c78f5",
    "deepnote_app_coordinates": {
     "h": 5,
     "w": 12,
     "x": 0,
     "y": null
    },
    "deepnote_cell_type": "markdown",
    "tags": []
   },
   "source": [
    "# Project\n",
    "\n",
    "__Project website:__ https://share.streamlit.io/blue56/socialgraphwebsite/main\n",
    "\n",
    "## Table of Contents\n",
    "- [__Part 0: Motivation__](#0.)\n",
    "- [__Part 1: Data gathering and processing__](#1.)\n",
    "    - [Data needs](#1.1.)\n",
    "    - [Data cleaning](#1.2.)\n",
    "    - [Data preprocessing](#1.3.)\n",
    "- [__Part 2: Basic network statistics__](#2.)\n",
    "    - [Building the network](#2.1.)\n",
    "    - [Degree Distribution](#2.2.)\n",
    "- [__Part 3: Tools, theory and analysis__](#3.)\n",
    "    - [Text Processing](#3.1.)\n",
    "    - [Analyses](#3.2.)\n",
    "        - [Function for VADER](#3.2.1.)\n",
    "        - [Analysis 1](#3.2.2.)\n",
    "        - [Analysis 2](#3.2.3.)\n",
    "        - [Analysis 3](#3.2.4.)\n",
    "        - [Analysis 4](#3.2.5.)\n",
    "        - [Word clouds](#3.2.6.)\n",
    "- [__Part 4: Discussion__](#4.)\n",
    "- [__Part 5: Contribution__](#5.)\n",
    "- [__Part 6: References__](#6.)"
   ]
  },
  {
   "cell_type": "markdown",
   "id": "b9fc574a",
   "metadata": {
    "cell_id": "00001-81303f37-9a10-4578-8d58-4c2dbe9611d8",
    "deepnote_app_coordinates": {
     "h": 5,
     "w": 12,
     "x": 0,
     "y": 6
    },
    "deepnote_cell_type": "markdown",
    "tags": []
   },
   "source": [
    "<a id='0.'></a>\n",
    "## Motivation"
   ]
  },
  {
   "cell_type": "markdown",
   "id": "d86181b2",
   "metadata": {
    "cell_id": "00002-cccda008-ee98-4d51-b757-e8a5fb91e172",
    "deepnote_app_coordinates": {
     "h": 5,
     "w": 12,
     "x": 0,
     "y": 12
    },
    "deepnote_cell_type": "markdown",
    "tags": []
   },
   "source": [
    "* Friends is a sitcom show produced during 1994 and 2004 that has become very popular across the globe being watched over 100 billions of times worldwide. Even now, 17 years after the show has ended, televisions and streaming services are still broadcasting the show and fans can't get enough of it. Given all its popularity and theories about the show that have been discussed over the years, network and data science are giving us the tools to attempt to analyze the relationships and the sentiment of the show from a scientific angle. \n",
    "\n",
    "* Thereby, by collecting data about the fictional characters from wiki fandom along with the episode scripts, the team has embarked on a journey of discovering perhaps things that have not been previously known about the show. For example, one questions super fans are usually having endless debates on is who is the most important character in the show? \n",
    "\n",
    "\n",
    "* The goal of this project is to offer a more in-depth analysos of the Friends universe by using network science through network science. Moreover sentiment analysis will be used to describe the personality of the individual characters as well as the relationship between them. Ultimately we would attempt to reveal with our project if the directors of the show have an influence on the imdb rating, if there exists a difference in the sentiment the characters express towards each other or if the sentiment of the show changes over time as the characters get older and their problems become more realistic. \n",
    "\n",
    "* Moreover using centrality measures we would try to offer an answer to the question, who is the most central character of the show.\n",
    "\n",
    "* Term frequency and inverse document frequency will be used to determine which are the words that characterize the main characters the best. \n",
    "\n",
    "* With the use of data visualization the team will aim to showcase what has been discovered about the show in an easy and understandable manner that can make other fans of the show or people who have never watched it understand the most important aspects of the character's relationship and personalities. "
   ]
  },
  {
   "cell_type": "markdown",
   "id": "7c6c9cbd",
   "metadata": {
    "cell_id": "00003-4808eb07-a7e2-4ffb-80af-a9e7f3dd0967",
    "deepnote_app_coordinates": {
     "h": 5,
     "w": 12,
     "x": 0,
     "y": 18
    },
    "deepnote_cell_type": "markdown"
   },
   "source": [
    "<a id='1.'></a>\n",
    "## Data gathering and processing\n",
    "\n",
    "We have moved most of the data gathering and processing code to a seperate notebook named \"Data_Gathering_and_Processing\". We have done that to improve the readablity of the code that centers around the analysis. "
   ]
  },
  {
   "cell_type": "markdown",
   "id": "f0f7de68",
   "metadata": {
    "cell_id": "00004-e66022c8-5dc1-4dd4-88db-9f4e6ddf20cb",
    "deepnote_app_coordinates": {
     "h": 5,
     "w": 12,
     "x": 0,
     "y": 24
    },
    "deepnote_cell_type": "markdown",
    "tags": []
   },
   "source": [
    "<a id='1.1.'></a>\n",
    "### Data needs\n",
    "\n",
    "We need data to be able to do the analyzes that we planned to do. Below is a list of the data that we needed and a description of the way that we obtained the data.\n",
    "\n",
    "- Information about Friends characters. Obtained using the Fandom API. Regex was used to extract the needed information.\n",
    "\n",
    "- Relationship between characters. If one character is mentioned on another characters Fandom wiki page. Obtained using the Fandom API. Regex was used to extract the needed information.\n",
    "\n",
    "- Relationship between characters if one character mentions another character in a transscript sentence. Transscripts was obtained by downloading transcript files from a GitHub repo. Transscripts was in html format, with a non consistent syntax. Regex was used to extract the neeed information. Two different regex patterns was used.\n",
    "\n",
    "- Name of Friends seasons. Extracted from the transscript files.\n",
    "\n",
    "- Name of episodes and the relation to seasons. Extracted from the transscript files.\n",
    "\n",
    "- IMDb rating of each episode. Obtained using IMDbPy package.\n",
    "\n",
    "- Director of episodes. This information was obtained via Wikidata. It was extracted as Linked Data in RDF format by using SPARQL as the query language."
   ]
  },
  {
   "cell_type": "markdown",
   "id": "e86d91bf",
   "metadata": {
    "cell_id": "00005-14786765-abd1-4c98-a5a4-7b1b4ae54bb6",
    "deepnote_app_coordinates": {
     "h": 5,
     "w": 12,
     "x": 0,
     "y": 30
    },
    "deepnote_cell_type": "markdown"
   },
   "source": [
    "<a id='1.2.'></a>\n",
    "### Data cleaning\n",
    "\n",
    "The data has been cleaned in several ways. On example is the names of the friends. Some places the full name is used to referer to a friend other places only the first name is used. There are also some misspelling of names. E.g. Monica was misspelled MOnica. We have hard code rules where needed."
   ]
  },
  {
   "cell_type": "markdown",
   "id": "06fbf0ae",
   "metadata": {
    "cell_id": "00006-0111a6d8-1814-4ccb-9384-f2b9602f31a5",
    "deepnote_app_coordinates": {
     "h": 5,
     "w": 12,
     "x": 0,
     "y": 36
    },
    "deepnote_cell_type": "markdown"
   },
   "source": [
    "<a id='1.3.'></a>\n",
    "### Data preprocessing\n",
    "\n",
    "Data has been preprocessed in several ways. However there is pattern that is used again and agin in the notebook. We use DataFrames to preprocess and temporary store data. We also heavily use csv files to store the preprocessed data. We main do that for two reasons:\n",
    "\n",
    "1. The csv files is used for our website. The website has to resonable response times.\n",
    "2. Keep the notebook and related files as self contained as possibly. \n",
    "\n",
    "We read the csv files and place the content into different data structures:\n",
    "\n",
    "- Network graph. It consists of the characters as nodes and the edges represents relationship between characters. A relationship is present if one character is mentioned on another characters wiki page.\n",
    "\n",
    "- DataFrame containing transscripts of each episode.\n",
    "\n",
    "- DataFrame that consists of three columns:\n",
    "\n",
    "    - The character that tells a story line.\n",
    "    - The character that is mentioned in the story line.\n",
    "    - The story line it self.\n",
    "\n",
    "- DataFrame containing metadata about the episodes. Director for each episode, the IMdB rating of each episode and finally which season each episode belong to."
   ]
  },
  {
   "cell_type": "markdown",
   "id": "cd8e8aed",
   "metadata": {
    "cell_id": "00007-90df2bbe-6aa1-4da6-905b-ddbf511368c6",
    "deepnote_app_coordinates": {
     "h": 5,
     "w": 12,
     "x": 0,
     "y": 42
    },
    "deepnote_cell_type": "markdown",
    "tags": []
   },
   "source": [
    "<a id='2.'></a>\n",
    "## Network statistics\n",
    "\n",
    "__Dataset stats discussion__\n",
    "\n",
    "Here is a summary of the dataset statistics:\n",
    "\n",
    "- Number of Friends seasons: 10\n",
    "- Total number of Friends episodes: 236\n",
    "- Number of characters: 423\n",
    "- Number of edges used for network: 2183\n",
    "- The number of male characters is 194, the number of female characters 194, and 45 characters whose gender is not known - a very even gender distribution. \n",
    "- The transscripts consists of 46657 transscript story lines.\n",
    "\n",
    "The network graph is a bit small and we have therefore tried to do some more indepth analysis. The transcripts plays an important part in these in depth analysis. The in depth analysis centers around sentiment analysis of the episodes transscripts and combine metadata about the episodes, e.g. the IMDb ratings.\n",
    "\n",
    "\n"
   ]
  },
  {
   "cell_type": "markdown",
   "id": "eb8a50de",
   "metadata": {
    "cell_id": "00008-272e71d9-446d-4244-a224-296d2d190188",
    "deepnote_app_coordinates": {
     "h": 5,
     "w": 12,
     "x": 0,
     "y": 48
    },
    "deepnote_cell_type": "markdown",
    "tags": []
   },
   "source": [
    "### Import statments\n",
    "\n",
    "This section contains all the import statements for the notebook. A requriments.txt file is also provided with specific package versions."
   ]
  },
  {
   "cell_type": "code",
   "execution_count": 1,
   "id": "8694c5e8",
   "metadata": {
    "cell_id": "00009-7feabd91-3564-45f8-9c2c-44b38b0aed89",
    "deepnote_app_coordinates": {
     "h": 5,
     "w": 12,
     "x": 0,
     "y": 54
    },
    "deepnote_cell_type": "code",
    "deepnote_to_be_reexecuted": false,
    "execution_millis": 2707,
    "execution_start": 1638986242305,
    "source_hash": "c3250ace",
    "tags": []
   },
   "outputs": [],
   "source": [
    "# Import nessary packages: \n",
    "import numpy as np \n",
    "import pandas as pd \n",
    "import networkx as nx\n",
    "import matplotlib.pyplot as plt\n",
    "import nltk\n",
    "from os import listdir\n",
    "from os.path import isfile, join\n",
    "from wordcloud import WordCloud\n",
    "from operator import itemgetter\n",
    "import random\n",
    "import os\n",
    "from fa2 import ForceAtlas2\n",
    "from matplotlib.pyplot import figure\n",
    "import powerlaw\n",
    "import networkx.algorithms.community as nx_comm\n",
    "import json\n",
    "import collections\n",
    "from nltk.tokenize import sent_tokenize,word_tokenize, RegexpTokenizer \n",
    "from labMTsimple.storyLab import emotionFileReader, emotion, stopper, emotionV\n",
    "from nltk.stem import WordNetLemmatizer \n",
    "from nltk.corpus import stopwords\n",
    "from nltk.stem import PorterStemmer\n",
    "from nltk.tokenize import word_tokenize\n",
    "from nltk.tokenize import sent_tokenize\n",
    "from nltk.corpus import words\n",
    "import re\n",
    "from vaderSentiment.vaderSentiment import SentimentIntensityAnalyzer\n",
    "import itertools\n",
    "import urllib\n",
    "import imdb\n",
    "import json\n",
    "from urllib.parse import quote\n",
    "import ast\n",
    "from SPARQLWrapper import SPARQLWrapper, JSON\n",
    "from fuzzywuzzy import fuzz\n",
    "import operator\n",
    "import csv\n",
    "from matplotlib.pyplot import figure\n",
    "from gensim.models import LdaModel\n",
    "from pprint import pprint\n",
    "from scipy import stats\n",
    "import pprint\n",
    "import matplotlib.pyplot as plt\n",
    "import pyLDAvis.gensim_models as gensimvis\n",
    "import pyLDAvis"
   ]
  },
  {
   "cell_type": "markdown",
   "id": "26825b27",
   "metadata": {
    "cell_id": "00010-865d1b06-bd8d-432b-8eab-a40637622c9e",
    "deepnote_app_coordinates": {
     "h": 5,
     "w": 12,
     "x": 0,
     "y": 60
    },
    "deepnote_cell_type": "markdown",
    "tags": []
   },
   "source": [
    "<a id='2.1.'></a>\n",
    "\n",
    "### Building the network"
   ]
  },
  {
   "cell_type": "code",
   "execution_count": 2,
   "id": "c68cffd8",
   "metadata": {
    "cell_id": "00011-4ee37413-58c9-4091-bfe0-5590532f0604",
    "deepnote_app_coordinates": {
     "h": 5,
     "w": 12,
     "x": 0,
     "y": 66
    },
    "deepnote_cell_type": "code",
    "deepnote_to_be_reexecuted": false,
    "execution_millis": 8,
    "execution_start": 1638986245013,
    "source_hash": "f957508f"
   },
   "outputs": [],
   "source": [
    "#get nodes and edges \n",
    "nodes = pd.read_csv('nodes.csv')\n",
    "friends_links = pd.read_csv('friends_links.csv')\n",
    "edges = list(zip(friends_links.CH_1, friends_links.CH_2))"
   ]
  },
  {
   "cell_type": "code",
   "execution_count": 3,
   "id": "d32e9155",
   "metadata": {
    "cell_id": "00012-833e1049-a4dd-4131-ba5a-357ec5db4441",
    "deepnote_app_coordinates": {
     "h": 5,
     "w": 12,
     "x": 0,
     "y": 72
    },
    "deepnote_cell_type": "code",
    "deepnote_to_be_reexecuted": false,
    "execution_millis": 1,
    "execution_start": 1638986245103,
    "source_hash": "ebbd32a0"
   },
   "outputs": [],
   "source": [
    "# graph creation \n",
    "H = nx.Graph()\n",
    "H.add_nodes_from(nodes)\n",
    "H.add_edges_from(edges)"
   ]
  },
  {
   "cell_type": "markdown",
   "id": "cdea2329",
   "metadata": {
    "cell_id": "00013-13c2f5bf-533b-4406-b845-580f688ec839",
    "deepnote_app_coordinates": {
     "h": 5,
     "w": 12,
     "x": 0,
     "y": 78
    },
    "deepnote_cell_type": "markdown"
   },
   "source": [
    "<a id='2.2.'></a>\n",
    "### Degree distributions "
   ]
  },
  {
   "cell_type": "code",
   "execution_count": 4,
   "id": "72c621ea",
   "metadata": {
    "cell_id": "00014-24a82e80-e9c3-41a7-8f1a-0f3aeb172c12",
    "deepnote_app_coordinates": {
     "h": 5,
     "w": 12,
     "x": 0,
     "y": 84
    },
    "deepnote_cell_type": "code",
    "deepnote_to_be_reexecuted": false,
    "execution_millis": 77,
    "execution_start": 1638986245105,
    "source_hash": "728a5e2d"
   },
   "outputs": [],
   "source": [
    "#get all sentiment values \n",
    "degrees = [i[1] for i in list(H.degree)]\n",
    "# get hist values and edges \n",
    "hist, bin_edges = np.histogram(degrees)"
   ]
  },
  {
   "cell_type": "code",
   "execution_count": 5,
   "id": "887ba837",
   "metadata": {
    "cell_id": "00015-bf6e9285-d599-4240-a107-5db96700686c",
    "deepnote_app_coordinates": {
     "h": 5,
     "w": 12,
     "x": 0,
     "y": 90
    },
    "deepnote_cell_type": "code",
    "deepnote_output_heights": [
     null,
     21.1875,
     465.25
    ],
    "deepnote_to_be_reexecuted": false,
    "execution_millis": 990,
    "execution_start": 1638986245108,
    "source_hash": "b260fe12"
   },
   "outputs": [
    {
     "name": "stderr",
     "output_type": "stream",
     "text": [
      "<>:7: DeprecationWarning: invalid escape sequence \\i\n",
      "<>:7: DeprecationWarning: invalid escape sequence \\i\n",
      "C:\\Users\\jacob\\AppData\\Local\\Temp/ipykernel_14128/3853334380.py:7: DeprecationWarning: invalid escape sequence \\i\n",
      "  plt.title('$\\it{F}$•$\\it{R}$•$\\it{I}$•$\\it{E}$•$\\it{N}$•$\\it{D}$•$\\it{S}$ - Degree Distribution',fontsize=18)\n"
     ]
    },
    {
     "data": {
      "text/plain": [
       "(0.0, 110.0)"
      ]
     },
     "execution_count": 5,
     "metadata": {},
     "output_type": "execute_result"
    },
    {
     "data": {
      "image/png": "[encoded data removed]",
      "text/plain": [
       "<Figure size 960x640 with 1 Axes>"
      ]
     },
     "metadata": {
      "needs_background": "light"
     },
     "output_type": "display_data"
    }
   ],
   "source": [
    "figure(figsize=(12, 8), dpi=80)\n",
    "n, bins, patches = plt.hist(x=degrees, bins='auto', color='#0504aa',\n",
    "                            alpha=0.7, rwidth=0.85)\n",
    "plt.grid(axis='y', alpha=0.75)\n",
    "plt.xlabel('Degree',fontsize=15)\n",
    "plt.ylabel('Frequency',fontsize=15)\n",
    "plt.title('$\\it{F}$•$\\it{R}$•$\\it{I}$•$\\it{E}$•$\\it{N}$•$\\it{D}$•$\\it{S}$ - Degree Distribution',fontsize=18)\n",
    "maxfreq = n.max()\n",
    "# Set a clean upper y-axis limit.\n",
    "plt.xticks(np.arange(min(degrees), max(degrees)+1, 10))\n",
    "plt.ylim(ymax=np.ceil(maxfreq / 10) * 10 if maxfreq % 10 else maxfreq + 10)"
   ]
  },
  {
   "cell_type": "markdown",
   "id": "a3d066bd",
   "metadata": {
    "cell_id": "00016-04c512aa-bec3-49bc-bbf7-3c1903abf89b",
    "deepnote_app_coordinates": {
     "h": 5,
     "w": 12,
     "x": 0,
     "y": 96
    },
    "deepnote_cell_type": "markdown"
   },
   "source": [
    "* The degree distribution shows that there is a small number of characters with a high degree while most of the characters have a small degree, meaning that they have not formed a lot of connections with other characters. We are expecting that the characters with a high degree are the protagonists of the show - namely, Rachel, Monica, Phoebe, Ross, Chandler and Joey! "
   ]
  },
  {
   "cell_type": "markdown",
   "id": "b058832b",
   "metadata": {
    "cell_id": "00017-8af96f3b-d8a4-4574-8e02-77039b398cf2",
    "deepnote_app_coordinates": {
     "h": 5,
     "w": 12,
     "x": 0,
     "y": 102
    },
    "deepnote_cell_type": "markdown",
    "tags": []
   },
   "source": [
    "<a id='3.'></a>\n",
    "## Tools, theory and analysis \n",
    "* Talk about how you've worked with text, including regular expressions, unicode, etc.\n",
    "* Describe which network science tools and data analysis strategies you've used, how those network science measures work, and why the tools you've chosen are right for the problem you're solving.\n",
    "* How did you use the tools to understand your dataset?"
   ]
  },
  {
   "cell_type": "markdown",
   "id": "953a136c",
   "metadata": {
    "cell_id": "00018-adedd5b8-ad80-49b3-86dd-43a5c2b147f2",
    "deepnote_app_coordinates": {
     "h": 5,
     "w": 12,
     "x": 0,
     "y": 108
    },
    "deepnote_cell_type": "markdown",
    "tags": []
   },
   "source": [
    "<a id='3.1.'></a>\n",
    "### Text processing\n",
    "\n",
    "We have had the need to work with semiunstructed text different places. Most notablely in regard to the transscripts. The transscripts seems to have been written over a longer periode of time, maybe at the same time as the different seasons was aired. The HTML features used for the transscript markup has changed over time and we had to handle this. We created two regex patterns to extract the story lines from the transscripts. The two regex patterns can be found above this block. The patterns are explained here:\n",
    "\n",
    "_Regex pattern 1_\n",
    "\n",
    "```\n",
    "<b>(?P<name>[\\w]+):<\\/b>[ ]*(?P<content>[\\w\\s\\\\n\\'.,?$!]+)\n",
    "```\n",
    "\n",
    "\n",
    "The pattern first looks for the html tag ```<b>``` after that it matches a capture group to capture the name of the character saying the story line. This is followed by the characters :<\\/b> and a variable number of spaces, represented with this subpattern ```[ ]*``` Finally the other capture group capture the content of the story line. The content of the content capture group has to match the characters in the list ```[\\w\\s\\\\n\\'.,?$!]```\n",
    "\n",
    "_Regex pattern 2_\n",
    "\n",
    "This pattern uses the same functionality as regex pattern 1. However it looks for some different html tags."
   ]
  },
  {
   "cell_type": "markdown",
   "id": "59f06d1a",
   "metadata": {
    "cell_id": "00019-1b80a5b7-e312-4284-b7ae-36e327c12069",
    "deepnote_app_coordinates": {
     "h": 5,
     "w": 12,
     "x": 0,
     "y": 114
    },
    "deepnote_cell_type": "markdown"
   },
   "source": [
    "<a id='3.2.'></a>\n",
    "\n",
    "### Analyses "
   ]
  },
  {
   "cell_type": "markdown",
   "id": "0e62dd67",
   "metadata": {
    "cell_id": "00020-36d772aa-dd28-47b2-8726-a947423385cb",
    "deepnote_app_coordinates": {
     "h": 5,
     "w": 12,
     "x": 0,
     "y": 120
    },
    "deepnote_cell_type": "markdown",
    "tags": []
   },
   "source": [
    "<a id='3.2.1.'></a>\n",
    "#### Useful function which computes VADER sentiment \n",
    "* Function to compute the sentiment of a given dictionary where keys of the dictionary are instance for which the sentiment will be computed and the values in the dictionary are lists of sentence tokens "
   ]
  },
  {
   "cell_type": "code",
   "execution_count": 6,
   "id": "d2e660bb",
   "metadata": {
    "cell_id": "00021-76751f6f-f9f3-498b-92a8-8050ccf25c69",
    "deepnote_app_coordinates": {
     "h": 5,
     "w": 12,
     "x": 0,
     "y": 126
    },
    "deepnote_cell_type": "code",
    "deepnote_to_be_reexecuted": false,
    "execution_millis": 16,
    "execution_start": 1638986246088,
    "source_hash": "8b4bb7f",
    "tags": []
   },
   "outputs": [],
   "source": [
    "analyzer = SentimentIntensityAnalyzer()\n",
    "\n",
    "def compute_vader_sentiment(dictionary_of_sentences):\n",
    "    \n",
    "    sentiment_vals = {}\n",
    "    for character in list(dictionary_of_sentences.keys()):\n",
    "        \n",
    "        list_of_scores = []\n",
    "        #loop through list of sentences and compute a compund score of each sentence\n",
    "        for sent in dictionary_of_sentences[character]:\n",
    "            list_of_scores.append(analyzer.polarity_scores(sent)['compound'])\n",
    "        if len(list_of_scores)> 10:\n",
    "            sentiment_vals[character] = sum(list_of_scores)/len(list_of_scores)\n",
    "            \n",
    "    \n",
    "    return sentiment_vals "
   ]
  },
  {
   "cell_type": "markdown",
   "id": "a8315e4c",
   "metadata": {
    "cell_id": "00022-27a2bee5-9461-48ba-87f8-98d052b24f2f",
    "deepnote_app_coordinates": {
     "h": 5,
     "w": 12,
     "x": 0,
     "y": 132
    },
    "deepnote_cell_type": "markdown"
   },
   "source": [
    "<a id='3.2.2.'></a>\n",
    "#### Analysis 1: Understand Characters Sentiment\n",
    "\n",
    "* This analysis will attempt to investigate, using story lines from the show's script, what is the sentiment of the characters that own storylines in the show as well as the distribution of the sentiment in the show among character. \n",
    "* The tool that will be used to compute the sentiment of the show is VADER analyzer which is available as a python library. \n",
    "* Sentiment analysis works by detecting polarity which can be a positive or negative opinion in a text. \n",
    "* Vader analyzer is a model that is used in sentiment analysis as it can detect polarity and the strength of the emotion in a given text. Vader is also intelligent enough to understand basic contexts such as 'did not love', as a negative statement. \n",
    "* The vader analyzer ouputs a compound score which can split sentiment in 3 different categories: positive, negative and neutral. \n",
    "* The text will be tokenized into a list of sentences. To obtain a fair coumpound average of the sentiment score, only characters with a number of story lines higher than 10 will be considered. "
   ]
  },
  {
   "cell_type": "code",
   "execution_count": 7,
   "id": "3e945a22",
   "metadata": {
    "cell_id": "00023-b3936672-489a-4ad8-8e61-dde89444e681",
    "deepnote_app_coordinates": {
     "h": 5,
     "w": 12,
     "x": 0,
     "y": 138
    },
    "deepnote_cell_type": "code",
    "deepnote_output_heights": [
     null,
     21.1875
    ],
    "deepnote_to_be_reexecuted": false,
    "execution_millis": 2,
    "execution_start": 1638986246139,
    "source_hash": "5ac336bc"
   },
   "outputs": [],
   "source": [
    "#get lines from file \n",
    "lines = pd.read_csv('lines.csv').reset_index()\n",
    "lines = lines[['Character','Lines']]"
   ]
  },
  {
   "cell_type": "code",
   "execution_count": 8,
   "id": "5a9b5189",
   "metadata": {
    "cell_id": "00024-b4a62f97-08c4-4cba-a252-35eb8b522e3c",
    "deepnote_app_coordinates": {
     "h": 5,
     "w": 12,
     "x": 0,
     "y": 144
    },
    "deepnote_cell_type": "code",
    "deepnote_to_be_reexecuted": false,
    "execution_millis": 202,
    "execution_start": 1638986246183,
    "source_hash": "6bfd431c"
   },
   "outputs": [],
   "source": [
    "#extract lines from Lines column from dataframe and \n",
    "#convert to list \n",
    "sent_from_dialogue = {}\n",
    "for i in range(0,len(lines)):\n",
    "    sent_from_dialogue[lines.Character[i]] = ast.literal_eval(lines.Lines[i])"
   ]
  },
  {
   "cell_type": "code",
   "execution_count": 9,
   "id": "509dd48b",
   "metadata": {
    "cell_id": "00025-eda91f78-e7cf-402a-b137-7da53573dae7",
    "deepnote_app_coordinates": {
     "h": 5,
     "w": 12,
     "x": 0,
     "y": 150
    },
    "deepnote_cell_type": "code",
    "deepnote_output_heights": [
     null,
     21.1875
    ],
    "deepnote_to_be_reexecuted": false,
    "execution_millis": 2,
    "execution_start": 1638986246435,
    "source_hash": "54d52e78"
   },
   "outputs": [
    {
     "data": {
      "text/plain": [
       "['Dude, none of this is']"
      ]
     },
     "execution_count": 9,
     "metadata": {},
     "output_type": "execute_result"
    }
   ],
   "source": [
    "# remove dict entry where k == 'MOnica' and assign the lines to key 'Monica'\n",
    "#repeat for Rache and Chandlers \n",
    "for k in list(sent_from_dialogue.keys()):\n",
    "    \n",
    "    if k == 'MOnica':sent_from_dialogue['Monica'].extend(sent_from_dialogue['MOnica'])\n",
    "    elif k =='Rache':sent_from_dialogue['Rachel'].extend(sent_from_dialogue['Rache'])\n",
    "    elif k == 'Chandlers': sent_from_dialogue['Chandler'].extend(sent_from_dialogue['Chandlers'])\n",
    "sent_from_dialogue.pop('MOnica',None)\n",
    "sent_from_dialogue.pop('Rache',None)\n",
    "sent_from_dialogue.pop('Chandlers',None)"
   ]
  },
  {
   "cell_type": "code",
   "execution_count": 10,
   "id": "6629b57d",
   "metadata": {
    "cell_id": "00026-e090ba59-4eea-401b-91d1-994d21f8e87a",
    "deepnote_app_coordinates": {
     "h": 5,
     "w": 12,
     "x": 0,
     "y": 156
    },
    "deepnote_cell_type": "code",
    "deepnote_to_be_reexecuted": false,
    "execution_millis": 2705,
    "execution_start": 1638986246436,
    "source_hash": "22175ff9",
    "tags": []
   },
   "outputs": [],
   "source": [
    "#apply vader sentiment function \n",
    "characters_sentiment = compute_vader_sentiment(sent_from_dialogue)\n",
    "sorted_characters_sentiment = {k: v for k, v in sorted(characters_sentiment.items(), key=lambda item: item[1],reverse=True)}"
   ]
  },
  {
   "cell_type": "code",
   "execution_count": 11,
   "id": "2e685b18",
   "metadata": {
    "cell_id": "00027-a756ec26-a4e3-4e1d-84d5-45182618d6ce",
    "deepnote_app_coordinates": {
     "h": 5,
     "w": 12,
     "x": 0,
     "y": 162
    },
    "deepnote_cell_type": "code",
    "deepnote_to_be_reexecuted": false,
    "execution_millis": 2,
    "execution_start": 1638986249147,
    "source_hash": "6694dbe3",
    "tags": []
   },
   "outputs": [
    {
     "name": "stdout",
     "output_type": "stream",
     "text": [
      "The five most positive characters are:{'Shelley': 0.22006470588235297, 'Donny': 0.21667272727272727, 'Katie': 0.2156515151515152, 'Mindy': 0.20208965517241376, 'Ronni': 0.19625769230769233}\n",
      "The five most negative characters are:{'Stanley': -0.01821666666666667, 'Kori': -0.03661538461538461, 'Julio': -0.04649999999999998, 'Luisa': -0.05979523809523809, 'Precious': -0.06340555555555556}\n"
     ]
    }
   ],
   "source": [
    "print(f'The five most positive characters are:' + str({k: sorted_characters_sentiment[k] for k in list(sorted_characters_sentiment)[:5]}))\n",
    "print(f'The five most negative characters are:' + str({k: sorted_characters_sentiment[k] for k in list(sorted_characters_sentiment)[-5:]}))"
   ]
  },
  {
   "cell_type": "markdown",
   "id": "38fb5d8c",
   "metadata": {
    "cell_id": "00028-253bcbb6-92b2-4077-892d-f83e38a2ac7a",
    "deepnote_app_coordinates": {
     "h": 5,
     "w": 12,
     "x": 0,
     "y": 168
    },
    "deepnote_cell_type": "markdown"
   },
   "source": [
    "__Sentiment histogram__ "
   ]
  },
  {
   "cell_type": "code",
   "execution_count": 12,
   "id": "82de159a",
   "metadata": {
    "cell_id": "00029-f4401d57-79e4-4d92-b232-40411521520c",
    "deepnote_app_coordinates": {
     "h": 5,
     "w": 12,
     "x": 0,
     "y": 174
    },
    "deepnote_cell_type": "code",
    "deepnote_to_be_reexecuted": false,
    "execution_millis": 2,
    "execution_start": 1638986249182,
    "source_hash": "1d2ec22b"
   },
   "outputs": [],
   "source": [
    "#get all sentiment values \n",
    "sentiment_array = list(characters_sentiment.values())\n",
    "# get hist values and edges \n",
    "hist, bin_edges = np.histogram(sentiment_array)"
   ]
  },
  {
   "cell_type": "code",
   "execution_count": 13,
   "id": "6de04e3b",
   "metadata": {
    "cell_id": "00030-df8d3ec0-7da0-4030-9c34-25d1aaf6b0dd",
    "deepnote_app_coordinates": {
     "h": 5,
     "w": 12,
     "x": 0,
     "y": 180
    },
    "deepnote_cell_type": "code",
    "deepnote_to_be_reexecuted": false,
    "execution_millis": 2,
    "execution_start": 1638986249183,
    "source_hash": "c4fdcb3f",
    "tags": []
   },
   "outputs": [],
   "source": [
    "df_char_sentiment = pd.DataFrame()\n",
    "df_char_sentiment['Character'] = list(characters_sentiment.keys())\n",
    "df_char_sentiment['Sentiment'] = list(characters_sentiment.values())\n",
    "df_char_sentiment.to_csv('characters_sentiment.csv')"
   ]
  },
  {
   "cell_type": "code",
   "execution_count": 14,
   "id": "331efe1b",
   "metadata": {
    "cell_id": "00031-6ddc73d0-e877-4ca2-a5ef-3c01ec77f2c4",
    "deepnote_app_coordinates": {
     "h": 5,
     "w": 12,
     "x": 0,
     "y": 186
    },
    "deepnote_cell_type": "code",
    "deepnote_output_heights": [
     null,
     21.1875,
     280
    ],
    "deepnote_to_be_reexecuted": false,
    "execution_millis": 291,
    "execution_start": 1638986249187,
    "source_hash": "36f43b14"
   },
   "outputs": [
    {
     "data": {
      "text/plain": [
       "(0.0, 30.0)"
      ]
     },
     "execution_count": 14,
     "metadata": {},
     "output_type": "execute_result"
    },
    {
     "data": {
      "image/png": "[encoded data removed]",
      "text/plain": [
       "<Figure size 432x288 with 1 Axes>"
      ]
     },
     "metadata": {
      "needs_background": "light"
     },
     "output_type": "display_data"
    }
   ],
   "source": [
    "n, bins, patches = plt.hist(x=list(characters_sentiment.values()), bins='auto', color='#0504aa',\n",
    "                            alpha=0.7, rwidth=0.85)\n",
    "plt.grid(axis='y', alpha=0.75)\n",
    "plt.xlabel('Value')\n",
    "plt.ylabel('Frequency')\n",
    "plt.title('VADER Characters Sentiment Histogram')\n",
    "maxfreq = n.max()\n",
    "# Set a clean upper y-axis limit.\n",
    "plt.ylim(ymax=np.ceil(maxfreq / 10) * 10 if maxfreq % 10 else maxfreq + 10)"
   ]
  },
  {
   "cell_type": "markdown",
   "id": "d12df70c",
   "metadata": {
    "cell_id": "00032-15883d38-5bf2-4724-847e-6e24eb32e8e3",
    "deepnote_app_coordinates": {
     "h": 5,
     "w": 12,
     "x": 0,
     "y": 192
    },
    "deepnote_cell_type": "markdown",
    "tags": []
   },
   "source": [
    "__Findings__ \n",
    "\n",
    "* According to VADER the five most positive characters are Shelley, Donny, Katie, Mindie and Ronnie - all having an average compound score above the thresold of positivity, which is 0.05. Moreover the most negative characters are Precious, Luisa, Julio, Kori and Stanley, all having a compound score below zero. However according to VADER only scores below -0.05 indicate negativity and therefore the conclusion is that out of the five characters, only Luisa and Precious can be considered as characters with a negative sentiment.\n",
    "*  The sentiment of the six main characters is as follows: Rachel: 0.099, Phoebe 0.100, Monica 0.084, Ross 0.087, Chandler: 0.089, 0.091. One can consider all six characters as being positive as all of them have an average compound score of over 0.05. It is concluded that Phoebe is the most positive character and Monica is the least positive one while Joey is the most positive main male character.Phoebe and Rachel have a very similar sentiment score. \n",
    "* The sentiment score distribution, as observed in the histogram lays in the interval -0.05 and 0.20. While it has been found that only 2 characters can be categorizes as negative, if we look at the histogram we can observe that approximately 30 characters out of the 127 characters who had more than 10 story lines in the show transmit a neutral sentiment. The rest of the characters - approx 100 - are concluded to be positive, but not extremely positive since none of them have a sentiment that is very close to 1, which is the higher boundary of the sentiment score interval. "
   ]
  },
  {
   "cell_type": "markdown",
   "id": "6cfcd998",
   "metadata": {
    "cell_id": "00033-0b26d03b-4e07-47c3-b434-671380d43ee3",
    "deepnote_app_coordinates": {
     "h": 5,
     "w": 12,
     "x": 0,
     "y": 198
    },
    "deepnote_cell_type": "markdown"
   },
   "source": [
    "<a id='3.2.3.'></a>\n",
    "\n",
    "#### Analysis 2: Study effect of the director on the imdb score \n",
    "* To understand if the various directors of the show have an influence on the imdb score a one-way ANOVA statistical test is going to be used. The one way anova test has the capacity to detect wheter there exists a statistically significant difference between the means of two or more independent groups. \n",
    "* The ANOVA test required that there exists an independent and a dependent variable. In this case, the independent variable is the director of the show while the dependent variable is the imdb score. \n",
    "* The test returns a p-value that if below the significant level of 0.05 would show that there exists a significant difference between the group means.  \n",
    "* The ANOVA test is a parametric test that is sensitive to any abnormalities in the data and therefore it must be ensured that prior to carrying the test the normality assumptions must be fulfilled. "
   ]
  },
  {
   "cell_type": "markdown",
   "id": "100f1587",
   "metadata": {
    "cell_id": "00034-c5af7c68-728f-4b95-8d3c-8f8963c2f7f4",
    "deepnote_app_coordinates": {
     "h": 5,
     "w": 12,
     "x": 0,
     "y": 204
    },
    "deepnote_cell_type": "markdown"
   },
   "source": [
    "__Normality assumptions__\n",
    "* dependent variable is continuous - imbdb score cont variable \n",
    "* independent variable consists of two or more categories - yes there are 17 directors in total \n",
    "* independence in observations - it is assumed so \n",
    "* there should be no outliers - all data points outside of the interquantile range will be removed \n",
    "* dependent variable must be normally distributed for each category of the independent variable - DONE\n",
    "* homogeneity of variances - test using Levene's test for homogeneity of variances. If assumption failed, use Welch anova"
   ]
  },
  {
   "cell_type": "code",
   "execution_count": 15,
   "id": "0d43f4f0",
   "metadata": {
    "cell_id": "00035-34c8c800-8900-486e-8da1-263aabf9bd37",
    "deepnote_app_coordinates": {
     "h": 5,
     "w": 12,
     "x": 0,
     "y": 210
    },
    "deepnote_cell_type": "code",
    "deepnote_to_be_reexecuted": false,
    "execution_millis": 592,
    "execution_start": 1638986249538,
    "source_hash": "db3bda6c",
    "tags": []
   },
   "outputs": [],
   "source": [
    "## get data\n",
    "episodes_data = pd.read_csv('episodes.csv')\n",
    "ratings_and_directors = episodes_data.copy()[['Rating','Director']]\n",
    "ratings_and_directors = ratings_and_directors.dropna(axis=0, subset=['Director']).reset_index()"
   ]
  },
  {
   "cell_type": "code",
   "execution_count": 16,
   "id": "464750cc",
   "metadata": {
    "cell_id": "00036-3a311a90-5cbe-4399-9c79-2839c3e69d5b",
    "deepnote_app_coordinates": {
     "h": 5,
     "w": 12,
     "x": 0,
     "y": 216
    },
    "deepnote_cell_type": "code",
    "deepnote_to_be_reexecuted": false,
    "execution_millis": 9,
    "execution_start": 1638986250157,
    "source_hash": "7034284",
    "tags": []
   },
   "outputs": [],
   "source": [
    "#outliers removal \n",
    "Q1 = ratings_and_directors['Rating'].quantile(0.25)\n",
    "Q3 = ratings_and_directors['Rating'].quantile(0.75)\n",
    "IQR = Q3 - Q1\n",
    "lower_b = Q1 - 1.5*IQR \n",
    "higher_b = Q3 + 1.5*IQR\n",
    "#remove all data points outside the interquantile range \n",
    "df_wo_outliers = ratings_and_directors[(ratings_and_directors['Rating'] >= lower_b) & (ratings_and_directors['Rating']<=higher_b)]"
   ]
  },
  {
   "cell_type": "code",
   "execution_count": 17,
   "id": "86da545e",
   "metadata": {
    "cell_id": "00037-97b3a15f-6c1b-494e-ab5f-41f053f72215",
    "deepnote_app_coordinates": {
     "h": 5,
     "w": 12,
     "x": 0,
     "y": 222
    },
    "deepnote_cell_type": "code",
    "deepnote_output_heights": [
     21.1875
    ],
    "deepnote_to_be_reexecuted": false,
    "execution_millis": 36,
    "execution_start": 1638986250177,
    "source_hash": "cdeb2f42"
   },
   "outputs": [
    {
     "name": "stdout",
     "output_type": "stream",
     "text": [
      "Normality assumption not violated\n",
      "Normality assumption not violated\n"
     ]
    },
    {
     "name": "stderr",
     "output_type": "stream",
     "text": [
      "C:\\Users\\jacob\\AppData\\Local\\Temp/ipykernel_14128/2555536530.py:4: UserWarning: Boolean Series key will be reindexed to match DataFrame index.\n",
      "  if len(df_wo_outliers[ratings_and_directors.Director == d]) >= 20:\n"
     ]
    }
   ],
   "source": [
    "directors = []\n",
    "for d in list(df_wo_outliers['Director'].unique()):\n",
    "    #get list of directors who directed more than 20 episode \n",
    "    if len(df_wo_outliers[ratings_and_directors.Director == d]) >= 20:\n",
    "        directors.append(d)\n",
    "for director in directors:\n",
    "    _, p_val = stats.normaltest(df_wo_outliers[df_wo_outliers.Director == director]['Rating'])\n",
    "    if p_val > 0.05:\n",
    "        print('Normality assumption not violated') # normality assumptions not violated \n",
    "    elif p_val < 0.05:\n",
    "        print('Normality assumption VIOLATED'+ str(director))"
   ]
  },
  {
   "cell_type": "code",
   "execution_count": 18,
   "id": "f837f0fd",
   "metadata": {
    "cell_id": "00038-b922f30d-0059-438a-b04b-da6acf7c7689",
    "deepnote_app_coordinates": {
     "h": 5,
     "w": 12,
     "x": 0,
     "y": 228
    },
    "deepnote_cell_type": "code",
    "deepnote_to_be_reexecuted": false,
    "execution_millis": 28,
    "execution_start": 1638986250224,
    "source_hash": "fdf39589"
   },
   "outputs": [],
   "source": [
    "all_directors = [x.replace(' ','_') for x in df_wo_outliers.Director.unique()]\n",
    "all_dfs = []\n",
    "for x in all_directors:\n",
    "    globals()[f\"df_{x}\"] = df_wo_outliers[df_wo_outliers['Director'] == x.replace('_',' ')].reset_index()\n",
    "    all_dfs.append(globals()[f\"df_{x}\"])\n",
    "#remove all dataframes with length of less than 20 data points \n",
    "#since ANOVA requires a minimum of 20 data points in each group to draw a conclusion\n",
    "all_dfs_v3 = [x for x in all_dfs if len(x)>=20]"
   ]
  },
  {
   "cell_type": "code",
   "execution_count": 19,
   "id": "5039d329",
   "metadata": {
    "cell_id": "00039-c0b33555-3b9d-4f9e-81ae-17e0dc296f30",
    "deepnote_app_coordinates": {
     "h": 5,
     "w": 12,
     "x": 0,
     "y": 234
    },
    "deepnote_cell_type": "code",
    "deepnote_to_be_reexecuted": false,
    "execution_millis": 3,
    "execution_start": 1638986250284,
    "source_hash": "af1be008"
   },
   "outputs": [
    {
     "name": "stdout",
     "output_type": "stream",
     "text": [
      "Homogeneity of variance assumption fulfilled\n"
     ]
    }
   ],
   "source": [
    "#homogeneity of variance fulfilled \n",
    "from scipy.stats import levene\n",
    "stat, p = levene(all_dfs_v3[0]['Rating'], all_dfs_v3[1]['Rating'])\n",
    "if p>0.05: print('Homogeneity of variance assumption fulfilled')\n",
    "else: print('Homogeneity of variance assumption not fulfilled')"
   ]
  },
  {
   "cell_type": "markdown",
   "id": "9201c81a",
   "metadata": {
    "cell_id": "00040-352a0cd0-c307-445e-9732-8074cbab18fd",
    "deepnote_app_coordinates": {
     "h": 5,
     "w": 12,
     "x": 0,
     "y": 240
    },
    "deepnote_cell_type": "markdown",
    "tags": []
   },
   "source": [
    "__ANOVA TEST__"
   ]
  },
  {
   "cell_type": "code",
   "execution_count": 20,
   "id": "e0a3666e",
   "metadata": {
    "cell_id": "00041-08365ddb-a4e6-487a-a88c-c723dd038212",
    "deepnote_app_coordinates": {
     "h": 5,
     "w": 12,
     "x": 0,
     "y": 246
    },
    "deepnote_cell_type": "code",
    "deepnote_output_heights": [
     21.1875
    ],
    "deepnote_to_be_reexecuted": false,
    "execution_millis": 2,
    "execution_start": 1638986250285,
    "source_hash": "d5b4373c"
   },
   "outputs": [
    {
     "name": "stdout",
     "output_type": "stream",
     "text": [
      "The group means are not different\n"
     ]
    }
   ],
   "source": [
    "# ANOVA test \n",
    "from scipy.stats import f_oneway\n",
    "_, p_val_anova = f_oneway(all_dfs_v3[0]['Rating'],all_dfs_v3[1]['Rating'])\n",
    "if p_val_anova > 0.05:\n",
    "    print('The group means are not different')\n",
    "else:\n",
    "    print('The group means are different')"
   ]
  },
  {
   "cell_type": "markdown",
   "id": "f43e2781",
   "metadata": {
    "cell_id": "00042-a33db5da-e3e1-4a69-97e9-dc345cc5706a",
    "deepnote_app_coordinates": {
     "h": 5,
     "w": 12,
     "x": 0,
     "y": 252
    },
    "deepnote_cell_type": "markdown",
    "tags": []
   },
   "source": [
    "__Findings__ \n",
    "* After removing all outliers and checked for normality the ANOVA test has been carried. The implementation of the one-way ANOVA test in python requires that each group(directors in this case) contains a minimum of 20 data points. Thereby after removing all other director data with under 20 data points, the test was performed for the remaining 2 directors. \n",
    "* The p-value obtained from the test, is larger than the significance level of 0.05 and that shows that no significant difference exists between the group means for the imdb score for the two directors. Thereby, it can be concluded that no effect of the director on the imdb score has been identified. As no effect has been identified the analysis can be concluded here. "
   ]
  },
  {
   "cell_type": "markdown",
   "id": "35d1d7fd",
   "metadata": {
    "cell_id": "00043-d91818b5-7d33-4e96-806f-e64779b9ff68",
    "deepnote_app_coordinates": {
     "h": 5,
     "w": 12,
     "x": 0,
     "y": 258
    },
    "deepnote_cell_type": "markdown"
   },
   "source": [
    "<a id='3.2.4.'></a>\n",
    "#### Analysis 3: Identify the most central character using centrality measures and number of story lines\n",
    "\n",
    "* In the Friends show the storylines and action is focused on six main characters: Joey, Ross, Rachel, Chandler, Monica and Phoebe. They all appear in all the episodes of the show and share numerous story lines. \n",
    "* It would be interesting to investigate, using network science tools such as degree centrality and betweeness centrality, if the theories regarding the six character as being equal can be confirmed. \n",
    "* _Degree centrality_ is a concept that uses the number of links a node has formed with other nodes in a network in order to measure which nodes are the most central and important in a network. _Betweeness centrality_ is able to detect the amount of influence a node has over the flow of information in a graph. The betweeness centrality can detect nodes that serve as a bridge that connects opposite parts of a graph. \n",
    "* Both betweeness centrality and degree centrality are implemented in the _networkx_ library.\n",
    "* Furthermore, we could also try to measure the centraility of each character based on the entire number of sentences or words they have ever said in the show. "
   ]
  },
  {
   "cell_type": "code",
   "execution_count": 21,
   "id": "81b11f1f",
   "metadata": {
    "cell_id": "00044-c539581b-51d6-4c3d-a524-4f9ade376491",
    "deepnote_app_coordinates": {
     "h": 5,
     "w": 12,
     "x": 0,
     "y": 264
    },
    "deepnote_cell_type": "code",
    "deepnote_to_be_reexecuted": false,
    "execution_millis": 15,
    "execution_start": 1638986250286,
    "source_hash": "5a0c584",
    "tags": []
   },
   "outputs": [],
   "source": [
    "nodes = pd.read_csv('nodes.csv')\n",
    "friends_links = pd.read_csv('friends_links.csv')\n",
    "links = list(zip(list(friends_links['CH_1']),friends_links['CH_2']) )"
   ]
  },
  {
   "cell_type": "code",
   "execution_count": 22,
   "id": "9464ba53",
   "metadata": {
    "cell_id": "00045-f9ce4e63-0292-48b9-b1c4-637c7257d818",
    "deepnote_app_coordinates": {
     "h": 5,
     "w": 12,
     "x": 0,
     "y": 270
    },
    "deepnote_cell_type": "code",
    "deepnote_to_be_reexecuted": false,
    "execution_millis": 12131,
    "execution_start": 1638986250306,
    "source_hash": "7e5911",
    "tags": []
   },
   "outputs": [
    {
     "name": "stderr",
     "output_type": "stream",
     "text": [
      "[nltk_data] Downloading package punkt to\n",
      "[nltk_data]     C:\\Users\\jacob\\AppData\\Roaming\\nltk_data...\n",
      "[nltk_data]   Package punkt is already up-to-date!\n"
     ]
    }
   ],
   "source": [
    "nltk.download('punkt')\n",
    "#get lines from file \n",
    "lines = pd.read_csv('lines.csv').reset_index()\n",
    "lines = lines[['Character','Lines']]\n",
    "lines_ch = {}\n",
    "#create dictionary with all lines for each of the main six characters\n",
    "sent_no = []\n",
    "word_no = []\n",
    "for ch in list(lines['Character']):\n",
    "    \n",
    "    sent_tokenized = []\n",
    "    words_tokenized = []\n",
    "    sentence_list = [sent.replace('//','') for sent in ast.literal_eval(lines[lines.Character== ch]['Lines'].values[0])]\n",
    "\n",
    "    for s in sentence_list:\n",
    "        sent_tokenized.extend(sent_tokenize(s))\n",
    "        words_tokenized.extend(word_tokenize(s))\n",
    "\n",
    "    sent_no.append(len(sent_tokenized))\n",
    "    word_no.append(len(words_tokenized))\n",
    "\n",
    "lines['no_sentences'] = sent_no\n",
    "lines['no_words'] = word_no"
   ]
  },
  {
   "cell_type": "code",
   "execution_count": 23,
   "id": "92b685a0",
   "metadata": {
    "cell_id": "00046-2dbfcf57-d0af-4e6b-9354-86128f74fe4d",
    "deepnote_app_coordinates": {
     "h": 5,
     "w": 12,
     "x": 0,
     "y": 276
    },
    "deepnote_cell_type": "code",
    "deepnote_to_be_reexecuted": false,
    "execution_millis": 82,
    "execution_start": 1638986262443,
    "source_hash": "c36ef7b8",
    "tags": []
   },
   "outputs": [],
   "source": [
    "lines.to_csv('lines_and_words_agg.csv')"
   ]
  },
  {
   "cell_type": "code",
   "execution_count": 24,
   "id": "e3cea9df",
   "metadata": {
    "cell_id": "00047-8487e591-95ca-4cf1-b2b2-8e60421ce65e",
    "deepnote_app_coordinates": {
     "h": 5,
     "w": 12,
     "x": 0,
     "y": 282
    },
    "deepnote_cell_type": "code",
    "deepnote_to_be_reexecuted": false,
    "execution_millis": 1149,
    "execution_start": 1638986262524,
    "source_hash": "4ae586f1"
   },
   "outputs": [],
   "source": [
    "H = nx.Graph()\n",
    "H.add_nodes_from(nodes)\n",
    "H.add_edges_from(links)\n",
    "centralities = nx.degree_centrality(H)\n",
    "centralities_sorted = {k: v for k, v in sorted(centralities.items(), key=lambda item: item[1],reverse=True)}\n",
    "betw_centrality = nx.betweenness_centrality(H)\n",
    "betw_sorted = {k: v for k, v in sorted(betw_centrality.items(), key=lambda item: item[1],reverse=True)}"
   ]
  },
  {
   "cell_type": "code",
   "execution_count": 25,
   "id": "e15973f1",
   "metadata": {
    "cell_id": "00048-96ed12fa-f814-4736-87ec-7780f02f1ac9",
    "deepnote_app_coordinates": {
     "h": 5,
     "w": 12,
     "x": 0,
     "y": 288
    },
    "deepnote_cell_type": "code",
    "deepnote_to_be_reexecuted": false,
    "execution_millis": 13,
    "execution_start": 1638986263688,
    "source_hash": "bbd90ec7"
   },
   "outputs": [],
   "source": [
    "top_20_betw_centralities = dict(list(betw_sorted.items())[:30])\n",
    "top_betw_cent_df = pd.DataFrame()\n",
    "top_betw_cent_df['Character'] = top_20_betw_centralities.keys()\n",
    "top_betw_cent_df['Value'] = top_20_betw_centralities.values()\n",
    "top_betw_cent_df.to_csv('top_betw_centralities.csv')\n",
    "\n",
    "top_20_centralities = dict(list(centralities_sorted.items())[:30])\n",
    "top_deg_cent_df = pd.DataFrame()\n",
    "top_deg_cent_df['Character'] = top_20_centralities.keys()\n",
    "top_deg_cent_df['Value'] = top_20_centralities.values()\n",
    "top_deg_cent_df.to_csv('top_deg_cent.csv')"
   ]
  },
  {
   "cell_type": "code",
   "execution_count": 26,
   "id": "d71b1a1c",
   "metadata": {
    "cell_id": "00049-16f6de7f-faf2-40b2-9a35-181decd16d25",
    "deepnote_app_coordinates": {
     "h": 5,
     "w": 12,
     "x": 0,
     "y": 294
    },
    "deepnote_cell_type": "code",
    "deepnote_output_heights": [
     null,
     21.1875,
     371.03125
    ],
    "deepnote_to_be_reexecuted": false,
    "execution_millis": 622,
    "execution_start": 1638986263727,
    "source_hash": "7d24f321"
   },
   "outputs": [
    {
     "data": {
      "text/plain": [
       "<BarContainer object of 30 artists>"
      ]
     },
     "execution_count": 26,
     "metadata": {},
     "output_type": "execute_result"
    },
    {
     "data": {
      "image/png": "[encoded data removed]",
      "text/plain": [
       "<Figure size 1080x576 with 2 Axes>"
      ]
     },
     "metadata": {
      "needs_background": "light"
     },
     "output_type": "display_data"
    }
   ],
   "source": [
    "fig = plt.figure(figsize=(15, 8))\n",
    "fig.add_subplot(121)\n",
    "plt.xticks(rotation=90)\n",
    "plt.title('Most connected characters according to degree centrality')\n",
    "plt.bar([v[0] for v in top_20_centralities],[v[1] for v in top_20_centralities])\n",
    "fig.add_subplot(122)\n",
    "plt.xticks(rotation=90)\n",
    "plt.title('Most connected characters according to betweeness centrality')\n",
    "plt.bar([v[0] for v in top_20_betw_centralities],[v[1] for v in top_20_betw_centralities])"
   ]
  },
  {
   "cell_type": "code",
   "execution_count": 27,
   "id": "9364a8b6",
   "metadata": {
    "cell_id": "00050-dcec297b-b06d-4d3e-9390-239386db5496",
    "deepnote_app_coordinates": {
     "h": 5,
     "w": 12,
     "x": 0,
     "y": 300
    },
    "deepnote_cell_type": "code",
    "deepnote_output_heights": [
     null,
     21.1875,
     270.40625
    ],
    "deepnote_to_be_reexecuted": false,
    "execution_millis": 1166,
    "execution_start": 1638986264405,
    "source_hash": "c7d4c402",
    "tags": []
   },
   "outputs": [
    {
     "data": {
      "text/plain": [
       "<BarContainer object of 30 artists>"
      ]
     },
     "execution_count": 27,
     "metadata": {},
     "output_type": "execute_result"
    },
    {
     "data": {
      "image/png": "[encoded data removed]",
      "text/plain": [
       "<Figure size 1080x576 with 2 Axes>"
      ]
     },
     "metadata": {
      "needs_background": "light"
     },
     "output_type": "display_data"
    }
   ],
   "source": [
    "fig = plt.figure(figsize=(15, 8))\n",
    "fig.add_subplot(121)\n",
    "plt.title('Most central characters based on the number of sentences')\n",
    "sort_sentences = lines.sort_values(by='no_sentences',ascending=False)\n",
    "plt.xticks(rotation=90)\n",
    "plt.bar(list(sort_sentences['Character'][:30]),list(sort_sentences['no_sentences'][:30]))\n",
    "\n",
    "fig.add_subplot(122)\n",
    "plt.title('Most central characters based on the number of sentences')\n",
    "sort_words = lines.sort_values(by='no_words',ascending=False)\n",
    "plt.xticks(rotation=90)\n",
    "plt.bar(list(sort_words['Character'][:30]),list(sort_words['no_words'][:30]))"
   ]
  },
  {
   "cell_type": "markdown",
   "id": "3a459ea4",
   "metadata": {
    "cell_id": "00051-0f1faaa4-645b-4c1e-b34d-197a29b0b123",
    "deepnote_app_coordinates": {
     "h": 5,
     "w": 12,
     "x": 0,
     "y": 306
    },
    "deepnote_cell_type": "markdown",
    "tags": []
   },
   "source": [
    "#### Findings\n",
    "\n",
    "* Betweeness and degree centrality have helped us identified the most important character in the show from a scientific perspective: and that is Ross!! \n",
    "* The least connected character is Phoebe confirmed by both betweenes and degree centrality.\n",
    "* In terms of the number of sentences and words spoken in the show it appears that Rachel is the winner, followed by Ross. While Monica occupies the 3rd place for the number of sentences she has ever said, the rank changes when looking at the number of words where we have Chandler on the 3rd place. While being close to the other of characters in both number of sentences and words spoken, Phoebe scores again the lowest place. We know for sure now who is the least favorite main character from the show according to network science. "
   ]
  },
  {
   "cell_type": "markdown",
   "id": "f5d2b189",
   "metadata": {
    "cell_id": "00052-ed969bd2-3be9-43a5-83ee-a49c4ee65c0c",
    "deepnote_app_coordinates": {
     "h": 5,
     "w": 12,
     "x": 0,
     "y": 312
    },
    "deepnote_cell_type": "markdown"
   },
   "source": [
    "<a id='3.2.5.'></a>\n",
    "\n",
    "#### Analysis 4: More Sentiment Analysis - for directors, episodes and pairs of characters\n",
    "\n",
    "* Even though the directors did not seem to have any significant effect on imdb score, it is still worth investigating whether the sentiment of the show varies when the director changes. Thereby, as previously done for each individual character, the lines will be collected and analyzed for each director. The analysis will be repeated for each episode to understand if the sentiment changes over time as the characters get older and their problems become more real. \n",
    "* At the beginning of the show we have also asked ourselves: what is friends teaching us with respect to meaningful relationships? We would also like to attempt to answer this question using sentiment analysis! We have thereby collected the lines where a character is speaking about another character. By analyzing the sentiment of those we hope to understand if there is a correlation between how strong the romantic or friendship relationships and how positively these pairs talk about each other. \n",
    "* By using VADER sentiment analyzer we can attempt to offer an answer to all these questions. "
   ]
  },
  {
   "cell_type": "markdown",
   "id": "6330666c",
   "metadata": {
    "cell_id": "00053-62391793-a76f-4365-8726-b7d8fff216bf",
    "deepnote_app_coordinates": {
     "h": 5,
     "w": 12,
     "x": 0,
     "y": 318
    },
    "deepnote_cell_type": "markdown"
   },
   "source": [
    "__Director Sentiment__"
   ]
  },
  {
   "cell_type": "code",
   "execution_count": 28,
   "id": "b581ff4c",
   "metadata": {
    "cell_id": "00054-bc2b6030-22d2-4267-968f-d23bc535cd32",
    "deepnote_app_coordinates": {
     "h": 5,
     "w": 12,
     "x": 0,
     "y": 324
    },
    "deepnote_cell_type": "code",
    "deepnote_to_be_reexecuted": false,
    "execution_millis": 43,
    "execution_start": 1638986265573,
    "source_hash": "6f50e249"
   },
   "outputs": [],
   "source": [
    "#get data\n",
    "lines_and_directors = pd.read_csv('lines_directors_sentiment.csv').reset_index()\n",
    "lines_and_directors = lines_and_directors[['Director','Lines']]"
   ]
  },
  {
   "cell_type": "code",
   "execution_count": 29,
   "id": "c9f8f5cf",
   "metadata": {
    "cell_id": "00055-d59738b1-eecf-444c-9186-10d0ef39721f",
    "deepnote_app_coordinates": {
     "h": 5,
     "w": 12,
     "x": 0,
     "y": 330
    },
    "deepnote_cell_type": "code",
    "deepnote_to_be_reexecuted": false,
    "execution_millis": 185,
    "execution_start": 1638986265611,
    "source_hash": "17a05bce"
   },
   "outputs": [],
   "source": [
    "lines_dict = {}\n",
    "i = 0 \n",
    "#identify all episodes directed by each director and get the lines  \n",
    "for director in list(lines_and_directors['Director']):\n",
    "    lines_dict[director] = ast.literal_eval(lines_and_directors[lines_and_directors.Director==director]['Lines'][i])\n",
    "    i = i+1"
   ]
  },
  {
   "cell_type": "code",
   "execution_count": 30,
   "id": "550b2799",
   "metadata": {
    "cell_id": "00056-4f6a29bb-cc14-4160-aa35-6f5ea6c86f04",
    "deepnote_app_coordinates": {
     "h": 5,
     "w": 12,
     "x": 0,
     "y": 336
    },
    "deepnote_cell_type": "code",
    "deepnote_to_be_reexecuted": false,
    "execution_millis": 1955,
    "execution_start": 1638986265875,
    "source_hash": "e50d4c6f"
   },
   "outputs": [],
   "source": [
    "lines_dict_new = {}\n",
    "for d in list(lines_dict.keys()):\n",
    "    all_sent = lines_dict[d]\n",
    "    all_sent_new = []\n",
    "    for sent in all_sent:\n",
    "        all_sent_new.extend(sent_tokenize(sent))\n",
    "    lines_dict_new[d] = all_sent_new"
   ]
  },
  {
   "cell_type": "code",
   "execution_count": 31,
   "id": "dd95f550",
   "metadata": {
    "cell_id": "00057-0c73bf22-b24d-47b6-a30f-fb758ebda9e6",
    "deepnote_app_coordinates": {
     "h": 5,
     "w": 12,
     "x": 0,
     "y": 342
    },
    "deepnote_cell_type": "code",
    "deepnote_to_be_reexecuted": false,
    "execution_millis": 2309,
    "execution_start": 1638986267830,
    "source_hash": "2dfd00cc",
    "tags": []
   },
   "outputs": [],
   "source": [
    "directors_sentiment = compute_vader_sentiment(lines_dict_new)"
   ]
  },
  {
   "cell_type": "code",
   "execution_count": 32,
   "id": "efc87b1e",
   "metadata": {
    "cell_id": "00058-9415bc3c-2bf5-4997-8c3f-d6d0dd93c871",
    "deepnote_app_coordinates": {
     "h": 5,
     "w": 12,
     "x": 0,
     "y": 348
    },
    "deepnote_cell_type": "code",
    "deepnote_output_heights": [
     null,
     21.1875,
     347
    ],
    "deepnote_to_be_reexecuted": false,
    "execution_millis": 376,
    "execution_start": 1638986270140,
    "source_hash": "cbed05cd"
   },
   "outputs": [
    {
     "data": {
      "text/plain": [
       "<BarContainer object of 18 artists>"
      ]
     },
     "execution_count": 32,
     "metadata": {},
     "output_type": "execute_result"
    },
    {
     "data": {
      "image/png": "[encoded data removed]",
      "text/plain": [
       "<Figure size 432x288 with 1 Axes>"
      ]
     },
     "metadata": {
      "needs_background": "light"
     },
     "output_type": "display_data"
    }
   ],
   "source": [
    "plt.xticks(rotation=90)\n",
    "plt.title('Director Sentiment Score')\n",
    "plt.bar(list(directors_sentiment.keys()),directors_sentiment.values())"
   ]
  },
  {
   "cell_type": "markdown",
   "id": "17587408",
   "metadata": {
    "cell_id": "00059-3b53a00a-2e72-45b0-986a-d2087516570d",
    "deepnote_app_coordinates": {
     "h": 5,
     "w": 12,
     "x": 0,
     "y": 354
    },
    "deepnote_cell_type": "markdown",
    "tags": []
   },
   "source": [
    "* Great news! None of the directors show a negative sentiment according to the VADER analyzer. The sentiment score is pretty homogeneous across the directors with one exception: Todd Holland who has a more positive score than any other director of the show. However it should be noted that he directed only one episode in the entire show.. so maybe the data was not sufficient to make it comparable with the rest. Overall, for now we can conclude that each director transmits a positive score altough for most of them the sentiment value is mildly positive only, rarely exceeding the value of 0.10. "
   ]
  },
  {
   "cell_type": "markdown",
   "id": "84a5b473",
   "metadata": {
    "cell_id": "00060-2c65ccae-46f4-4e8c-87cf-967690880121",
    "deepnote_app_coordinates": {
     "h": 5,
     "w": 12,
     "x": 0,
     "y": 360
    },
    "deepnote_cell_type": "markdown"
   },
   "source": [
    "__Sentiment Analysis - for pair of characters__\n",
    "\n",
    "* In this case, all the lines for when one character mentions another character in his speech has been collected\n",
    "* For each pair of characters the sentiment score has been computed using VADER\n",
    "* A visual representation of the results will be generated to understand which pairs of characters speak positively about eachother "
   ]
  },
  {
   "cell_type": "code",
   "execution_count": 33,
   "id": "cd9cffc9",
   "metadata": {
    "cell_id": "00061-cfd4010a-5c9a-45e3-870d-c4024fff0a6e",
    "deepnote_app_coordinates": {
     "h": 5,
     "w": 12,
     "x": 0,
     "y": 366
    },
    "deepnote_cell_type": "code",
    "deepnote_to_be_reexecuted": false,
    "execution_millis": 17,
    "execution_start": 1638986270524,
    "source_hash": "8cf7fb5b"
   },
   "outputs": [],
   "source": [
    "ch_talk_about = pd.read_csv('edges_talkabout2.csv')"
   ]
  },
  {
   "cell_type": "code",
   "execution_count": 34,
   "id": "1f5dac84",
   "metadata": {
    "cell_id": "00062-52ed3577-e2bc-407f-bf9f-8a5e603dd516",
    "deepnote_app_coordinates": {
     "h": 5,
     "w": 12,
     "x": 0,
     "y": 372
    },
    "deepnote_cell_type": "code",
    "deepnote_to_be_reexecuted": false,
    "execution_millis": 37950,
    "execution_start": 1638986270550,
    "source_hash": "33011f00"
   },
   "outputs": [],
   "source": [
    "edges_and_sentences = {}\n",
    "#find all unique pairs of characters and \n",
    "for speaker in ch_talk_about['Speaker'].unique():\n",
    "    for ch in ch_talk_about['About'].unique():\n",
    "        if len(list(ch_talk_about[(ch_talk_about.Speaker == speaker) & (ch_talk_about.About == ch)]['Sentence'])) > 0:\n",
    "            edges_and_sentences[speaker+'_'+ ch] = list(ch_talk_about[(ch_talk_about.Speaker == speaker) & (ch_talk_about.About == ch)]['Sentence'])"
   ]
  },
  {
   "cell_type": "code",
   "execution_count": 35,
   "id": "30591b6b",
   "metadata": {
    "cell_id": "00063-f5cf6476-8750-4ea6-9a37-6c6cd5994db7",
    "deepnote_app_coordinates": {
     "h": 5,
     "w": 12,
     "x": 0,
     "y": 378
    },
    "deepnote_cell_type": "code",
    "deepnote_to_be_reexecuted": false,
    "execution_millis": 355,
    "execution_start": 1638986308500,
    "source_hash": "58329110"
   },
   "outputs": [],
   "source": [
    "edges_and_sentences_clean = {}\n",
    "for k in list(edges_and_sentences.keys()):\n",
    "    sentences = edges_and_sentences[k]\n",
    "    sentences_clean = []\n",
    "    for s in sentences:\n",
    "        sentences_clean.extend(sent_tokenize(s.replace('\\\\','')))\n",
    "                 \n",
    "    edges_and_sentences[k] = sentences_clean"
   ]
  },
  {
   "cell_type": "code",
   "execution_count": 36,
   "id": "7d1b15ce",
   "metadata": {
    "cell_id": "00064-feebf0d5-8ef3-4673-9c35-7a9b96f50bd2",
    "deepnote_app_coordinates": {
     "h": 5,
     "w": 12,
     "x": 0,
     "y": 384
    },
    "deepnote_cell_type": "code",
    "deepnote_to_be_reexecuted": false,
    "execution_millis": 403,
    "execution_start": 1638986308856,
    "source_hash": "8ca367e0"
   },
   "outputs": [],
   "source": [
    "sentiment_towards_eachother = dict(sorted(compute_vader_sentiment(edges_and_sentences).items(), key=operator.itemgetter(1),reverse=True))"
   ]
  },
  {
   "cell_type": "code",
   "execution_count": 37,
   "id": "fc94515f",
   "metadata": {
    "cell_id": "00065-e5d42bc2-a869-4633-a966-0c41125b1a27",
    "deepnote_app_coordinates": {
     "h": 5,
     "w": 12,
     "x": 0,
     "y": 390
    },
    "deepnote_cell_type": "code",
    "deepnote_to_be_reexecuted": false,
    "execution_millis": 471,
    "execution_start": 1638986309269,
    "source_hash": "2f19b0a1",
    "tags": []
   },
   "outputs": [],
   "source": [
    "sentiment_of_pairs = pd.DataFrame()\n",
    "sentiment_of_pairs['Character Pairs'] = list(sentiment_towards_eachother.keys())\n",
    "sentiment_of_pairs['Sentiment'] = list(sentiment_towards_eachother.values())\n",
    "sentiment_of_pairs.to_csv('sentiment_of_pairs.csv')"
   ]
  },
  {
   "cell_type": "code",
   "execution_count": 38,
   "id": "fc8316d9",
   "metadata": {
    "cell_id": "00066-e3e06fdc-793c-4b01-a56d-40c9c436a86e",
    "deepnote_app_coordinates": {
     "h": 5,
     "w": 12,
     "x": 0,
     "y": 396
    },
    "deepnote_cell_type": "code",
    "deepnote_output_heights": [
     null,
     21.1875,
     611
    ],
    "deepnote_to_be_reexecuted": false,
    "execution_millis": 2647,
    "execution_start": 1638986309744,
    "source_hash": "cee47519"
   },
   "outputs": [
    {
     "data": {
      "text/plain": [
       "<BarContainer object of 78 artists>"
      ]
     },
     "execution_count": 38,
     "metadata": {},
     "output_type": "execute_result"
    },
    {
     "data": {
      "image/png": "[encoded data removed]",
      "text/plain": [
       "<Figure size 1000x1400 with 1 Axes>"
      ]
     },
     "metadata": {
      "needs_background": "light"
     },
     "output_type": "display_data"
    }
   ],
   "source": [
    "figure(figsize=(10,14), dpi=100)\n",
    "plt.xticks(rotation=90)\n",
    "plt.title('Sentiment towards eachother')\n",
    "plt.bar(list(sentiment_towards_eachother.keys()),sentiment_towards_eachother.values())"
   ]
  },
  {
   "cell_type": "markdown",
   "id": "8bc7bd1c",
   "metadata": {
    "cell_id": "00067-d354d306-38d1-438a-aebe-c4a13bc23b22",
    "deepnote_app_coordinates": {
     "h": 5,
     "w": 12,
     "x": 0,
     "y": 402
    },
    "deepnote_cell_type": "markdown"
   },
   "source": [
    "__Findings__\n",
    "\n",
    "* The pair with the highest sentiment value is Monica- David.Rachel-Gavin, Rachel- Gunther, Chandler - Joey also have high sentiment values. Rachel turns out to be very friendly with Gunther - in the rare encounter when she was actually talking to him or about him. Also, it isn't surprising giving that Mike and Phoebe have had a very smooth romantic journey - and now we can understand why - Mike is very positive towards Phoebe.\n",
    "* Moreover we can see that Phoebe is very positive toward her friends in the show - Chandler, Rachel, Monica. Generally it appears that Phoebe generally is very positive towards other people - as her name appears so often in the chart. \n",
    "* At the opposite side we have Ross who appears to benegative towards Monica. Carol, Ross's ex wife appears to be neutral when speaking to or about Ross. Very diplomatic of her. \n",
    "* One can also observe from the graph that one of the friends has a neutral sentiment towards other characters like Don. "
   ]
  },
  {
   "cell_type": "markdown",
   "id": "e451acf3",
   "metadata": {
    "cell_id": "00068-87964690-6ba4-488d-81f6-c8beec7524a2",
    "deepnote_app_coordinates": {
     "h": 5,
     "w": 12,
     "x": 0,
     "y": 408
    },
    "deepnote_cell_type": "markdown"
   },
   "source": [
    "__Eevolution of sentiment over time__\n",
    "\n",
    "* One other interesting perspective worth to be investigated is whether there is any changes in the sentiment as the show progresses. \n",
    "* Thereby to understand this we will use - AGAIN - sentiment analysis tools to see if there an evolution or involution of the sentiment values across time. \n",
    "* The data used for this is simply the lines the characters have had in each episode of the show aggregated on an episode level. "
   ]
  },
  {
   "cell_type": "code",
   "execution_count": 39,
   "id": "c4937373",
   "metadata": {
    "cell_id": "00069-824d3914-7fcf-459b-b4d8-e7b90393bb56",
    "deepnote_app_coordinates": {
     "h": 5,
     "w": 12,
     "x": 0,
     "y": 414
    },
    "deepnote_cell_type": "code",
    "deepnote_to_be_reexecuted": false,
    "execution_millis": 192,
    "execution_start": 1638986312386,
    "source_hash": "85fd6edb"
   },
   "outputs": [],
   "source": [
    "episodes_content = pd.read_csv('episodes_content.csv',encoding='UTF8').reset_index()\n",
    "episodes_content = episodes_content[['Episode','Content']]"
   ]
  },
  {
   "cell_type": "code",
   "execution_count": 40,
   "id": "9783752c",
   "metadata": {
    "cell_id": "00070-0712d1e2-dae5-4835-b0aa-7351a998d042",
    "deepnote_app_coordinates": {
     "h": 5,
     "w": 12,
     "x": 0,
     "y": 420
    },
    "deepnote_cell_type": "code",
    "deepnote_to_be_reexecuted": false,
    "execution_millis": 175,
    "execution_start": 1638986312415,
    "source_hash": "91292393"
   },
   "outputs": [],
   "source": [
    "episodes_dict = episodes_content.set_index('Episode')['Content'].to_dict()"
   ]
  },
  {
   "cell_type": "code",
   "execution_count": 41,
   "id": "bd7f0757",
   "metadata": {
    "cell_id": "00071-2a068b39-2b54-4e3c-a70a-dab8cc7065a3",
    "deepnote_app_coordinates": {
     "h": 5,
     "w": 12,
     "x": 0,
     "y": 426
    },
    "deepnote_cell_type": "code",
    "deepnote_to_be_reexecuted": false,
    "execution_millis": 2530,
    "execution_start": 1638986312478,
    "source_hash": "8e21f5b2"
   },
   "outputs": [],
   "source": [
    "episodes_clean = {}\n",
    "for k in list(episodes_dict.keys()):\n",
    "    sentences = ast.literal_eval(episodes_dict[k])\n",
    "    sentences_clean = []\n",
    "    for s in sentences:\n",
    "        sentences_clean.extend(sent_tokenize(s.replace('\\\\','')))\n",
    "                 \n",
    "    episodes_clean[k] = sentences_clean"
   ]
  },
  {
   "cell_type": "code",
   "execution_count": 42,
   "id": "8b5d42d5",
   "metadata": {
    "cell_id": "00072-317495bb-6d8a-47b0-b5f2-af1a8ff123c1",
    "deepnote_app_coordinates": {
     "h": 5,
     "w": 12,
     "x": 0,
     "y": 432
    },
    "deepnote_cell_type": "code",
    "deepnote_to_be_reexecuted": false,
    "execution_millis": 2702,
    "execution_start": 1638986315026,
    "source_hash": "171aa8b0"
   },
   "outputs": [],
   "source": [
    "episodes_sentiment = compute_vader_sentiment(episodes_clean)"
   ]
  },
  {
   "cell_type": "code",
   "execution_count": 43,
   "id": "d4c00dd9",
   "metadata": {
    "cell_id": "00073-ff7ea8c7-24a8-4d01-94e7-650584aa52b6",
    "deepnote_app_coordinates": {
     "h": 5,
     "w": 12,
     "x": 0,
     "y": 438
    },
    "deepnote_cell_type": "code",
    "deepnote_output_heights": [
     611
    ],
    "deepnote_to_be_reexecuted": false,
    "execution_millis": 17,
    "execution_start": 1638986317740,
    "source_hash": "d5823653",
    "tags": []
   },
   "outputs": [],
   "source": [
    "df_directors_sentiment = pd.DataFrame()\n",
    "df_directors_sentiment['Episodes'] = list(episodes_sentiment.keys())\n",
    "df_directors_sentiment['Sentiment'] = list(episodes_sentiment.values())\n",
    "#df_directors_sentiment.to_csv('df_directors_sentiment.csv')"
   ]
  },
  {
   "cell_type": "code",
   "execution_count": 44,
   "id": "4950cba3",
   "metadata": {
    "cell_id": "00074-bf369cc8-8bbe-4618-addb-d5b1e2312d4e",
    "deepnote_app_coordinates": {
     "h": 5,
     "w": 12,
     "x": 0,
     "y": 444
    },
    "deepnote_cell_type": "code",
    "deepnote_output_heights": [
     null,
     21.1875,
     383.328125
    ],
    "deepnote_to_be_reexecuted": false,
    "execution_millis": 535,
    "execution_start": 1638986317860,
    "source_hash": "71587f86"
   },
   "outputs": [
    {
     "data": {
      "text/plain": [
       "[<matplotlib.lines.Line2D at 0x2779db73430>]"
      ]
     },
     "execution_count": 44,
     "metadata": {},
     "output_type": "execute_result"
    },
    {
     "data": {
      "image/png": "[encoded data removed]",
      "text/plain": [
       "<Figure size 560x400 with 1 Axes>"
      ]
     },
     "metadata": {
      "needs_background": "light"
     },
     "output_type": "display_data"
    }
   ],
   "source": [
    "figure(figsize=(7,5), dpi=80)\n",
    "\n",
    "plt.title('Sentiment evolution across episodes')\n",
    "x_ticks = np.arange(0, len(episodes_sentiment), 5)\n",
    "plt.xticks(x_ticks,rotation=90)\n",
    "plt.plot(list(episodes_sentiment.keys()),episodes_sentiment.values())\n"
   ]
  },
  {
   "cell_type": "markdown",
   "id": "46be4827",
   "metadata": {
    "cell_id": "00075-3bdcac04-f1db-4d01-8bf7-ee02a004ef16",
    "deepnote_app_coordinates": {
     "h": 5,
     "w": 12,
     "x": 0,
     "y": 450
    },
    "deepnote_cell_type": "code",
    "deepnote_to_be_reexecuted": false,
    "execution_millis": 110,
    "execution_start": 1638986318295,
    "source_hash": "dc5301f5"
   },
   "source": [
    "__Findings:__\n",
    "    \n",
    "* The shows starts on midly positive node that increases and decreases for certain episodes throught season one.\n",
    "* There are certain episodes in season 4, 5, 6 and 9 that have peak sentiment values.\n",
    "* Certain other episodes are considered at most neutral by the VADER analyzer - and those belong to seasons 1,2 5 and 10. \n",
    "* For the last season one can observe a lot of ups and downs in the sentiment values which can show that there are a lot of emotions expressed as the show is approaching its end. \n",
    "* Even though certain episodes tend to be more positive than others, there are no colossal differences in the show's sentiment with very negative or very positive epsiodes. It can however be observed that some episodes are not classified as being positive according to the VADER analyzer which means that, when the epsiode sentences were analyzed and given a compound score, either there were many sentences with a negative compound score that dragged the sentiment average down or generally the compund score was low for most sentences contained in the episode. "
   ]
  },
  {
   "cell_type": "markdown",
   "id": "dbe669e7",
   "metadata": {
    "cell_id": "00076-67e696e6-bbb2-493c-932e-ccb834ac8aa9",
    "deepnote_app_coordinates": {
     "h": 5,
     "w": 12,
     "x": 0,
     "y": 456
    },
    "deepnote_cell_type": "markdown"
   },
   "source": [
    "<a id='3.2.6.'></a>\n",
    "#### Word clouds"
   ]
  },
  {
   "cell_type": "markdown",
   "id": "dd845ea6",
   "metadata": {
    "cell_id": "00077-04df7c42-124a-4d5f-bcc9-bbda8b4b85b1",
    "deepnote_app_coordinates": {
     "h": 5,
     "w": 12,
     "x": 0,
     "y": 462
    },
    "deepnote_cell_type": "markdown"
   },
   "source": [
    "__Creation process__\n",
    "\n",
    "_The creation of the word clouds is done in the following way:_\n",
    "\n",
    "1. _We have aggregated the content of all story lines for each of the 6 friends into text files. The files are placed in the \"content\" folder_.\n",
    "\n",
    "2. _We calculate the word IDF across the 6 friends text files. IDF is not specific for each friend_.\n",
    "\n",
    "3. _Then we calculate TC, which is the Term Count, for each word for each friend. TC is specific for each friend. TC does not take the length of the text into account. This is opposit to TF_.\n",
    "\n",
    "4. _We combine the IDF and the TC into IDF-TC for each race. Which gives us a list of words that is most notable for each friend_.\n",
    "\n",
    "5. _Each word list for each friend is used to generate a Word Cloud. The largest word in each Word Cloud is the most notable word for that friend. E.g. In the Chandler Word Cloud \"pride\" appears as a large word, because it is specific for Chandler_.\n",
    "\n",
    "6. _Finally we write the 100 most notable words for each of the friends to the characterwords.csv file._\n",
    "\n"
   ]
  },
  {
   "cell_type": "code",
   "execution_count": 45,
   "id": "5c418916",
   "metadata": {
    "cell_id": "00078-09fddd76-6df5-462d-a04c-deec94bc7b6a",
    "deepnote_app_coordinates": {
     "h": 5,
     "w": 12,
     "x": 0,
     "y": 468
    },
    "deepnote_cell_type": "code",
    "deepnote_to_be_reexecuted": true,
    "source_hash": "8e42c16b"
   },
   "outputs": [],
   "source": [
    "content_path = \"Content\"\n",
    "content_files = [f for f in listdir(content_path) if isfile(join(content_path, f))]\n",
    "\n",
    "# Calculate IDF for words across all races\n",
    "wordlist = nltk.corpus.PlaintextCorpusReader(content_path,content_files)\n",
    "\n",
    "mytext = nltk.TextCollection(wordlist)\n",
    "idf_dict = {}\n",
    "for word in np.unique(wordlist.words()):\n",
    "    idf_dict[word] = mytext.idf(word)"
   ]
  },
  {
   "cell_type": "code",
   "execution_count": null,
   "id": "94c4fdc4",
   "metadata": {
    "cell_id": "00079-1289a5df-ae63-4ea1-b2c7-5e0c090a1466",
    "deepnote_app_coordinates": {
     "h": 5,
     "w": 12,
     "x": 0,
     "y": 474
    },
    "deepnote_cell_type": "code",
    "deepnote_to_be_reexecuted": true,
    "source_hash": "11cdb743"
   },
   "outputs": [],
   "source": [
    "friends_tc = {}\n",
    "friends_tc_idf = {}\n",
    "champions = [\"Chandler\",\"Joey\", \"Monica\", \"Phoebe\", \"Ross\", \"Rachel\"]\n",
    "\n",
    "for champion in champions:\n",
    "    wordlist = nltk.corpus.PlaintextCorpusReader(content_path,champion + \".txt\")\n",
    "    txt_obj = nltk.Text(wordlist.words())\n",
    "    tc_dict = {}\n",
    "\n",
    "    for key, value in nltk.FreqDist(txt_obj).items():\n",
    "        tc_dict[key] = value\n",
    "\n",
    "    friends_tc[champion] = tc_dict\n",
    "\n",
    "    tc_idf_dict = {}\n",
    "\n",
    "    # calcute TC-IDF\n",
    "    for word in tc_dict:\n",
    "        tc = tc_dict[word]\n",
    "        idf = idf_dict[word]\n",
    "        tc_idf = tc * idf\n",
    "        tc_idf_dict[word] = tc_idf\n",
    "\n",
    "    friends_tc_idf[champion] = tc_idf_dict"
   ]
  },
  {
   "cell_type": "code",
   "execution_count": null,
   "id": "6efb5857",
   "metadata": {
    "cell_id": "00080-ec3473f9-13fa-41c4-9fe0-899bb724fd9c",
    "deepnote_app_coordinates": {
     "h": 5,
     "w": 12,
     "x": 0,
     "y": 480
    },
    "deepnote_cell_type": "code",
    "deepnote_to_be_reexecuted": true,
    "source_hash": "a6d3f347"
   },
   "outputs": [],
   "source": [
    "# Write character words to csv\n",
    "\n",
    "character_wordsList = []\n",
    "\n",
    "for champion in champions:\n",
    "\n",
    "    champion_friends_tc_idf = friends_tc_idf[champion]\n",
    "    sorted_champion_friends_tc_idf = sorted(champion_friends_tc_idf.items(), key=lambda kv: kv[1], reverse=True)\n",
    "\n",
    "    wordcloud_string = \"\"\n",
    "    \n",
    "    for word in sorted_champion_friends_tc_idf[:100]:\n",
    "        w = word[0]\n",
    "        wordcloud_string += w + \" \"\n",
    "\n",
    "    character_wordsList.append((champion,wordcloud_string))\n",
    "\n",
    "# Write nodes to csv\n",
    "df_characters_words = pd.DataFrame(character_wordsList)\n",
    "df_characters_words.columns = ['Name','Words']\n",
    "\n",
    "# Write the list of chracters to a CSV file, without the index column\n",
    "wordlistPath = \"characterwords.csv\"\n",
    "df_characters_words.to_csv(wordlistPath, index=False)"
   ]
  },
  {
   "cell_type": "code",
   "execution_count": null,
   "id": "fe364a2a",
   "metadata": {
    "cell_id": "00081-7545a6d0-9fe8-4649-a4e9-2c6a352818c5",
    "deepnote_app_coordinates": {
     "h": 5,
     "w": 12,
     "x": 0,
     "y": 486
    },
    "deepnote_cell_type": "code",
    "deepnote_output_heights": [
     414,
     414,
     414,
     414,
     414,
     414
    ],
    "deepnote_to_be_reexecuted": true,
    "source_hash": "c7ee77cc"
   },
   "outputs": [],
   "source": [
    "# Read words for characters from CSV\n",
    "df_wordlist = pd.read_csv(wordlistPath)\n",
    "\n",
    "colormapList = [\n",
    "        'Greys', 'Purples', 'Blues', 'Greens', 'Oranges', 'Reds',\n",
    "        'YlOrBr', 'YlOrRd', 'OrRd', 'PuRd', 'RdPu', 'BuPu',\n",
    "        'GnBu', 'PuBu', 'YlGnBu', 'PuBuGn', 'BuGn', 'YlGn']\n",
    "\n",
    "for champion_row in df_wordlist.iterrows():\n",
    "    #print(champion_row)\n",
    "    champion = champion_row[1][0]\n",
    "    #print(champion)\n",
    "    wordcloud_string = champion_row[1][1]\n",
    "    #print(wordcloud_string)\n",
    "\n",
    "    # Create and generate a word cloud image:\n",
    "    colormap = random.choice(colormapList)\n",
    "    wordcloud = WordCloud(width=1000, height=1000, background_color='white', colormap=colormap).generate(wordcloud_string)\n",
    "    wordcloud.collocations = False\n",
    "\n",
    "    # Display the generated image:\n",
    "    plt.figure( figsize=(15,7))\n",
    "    plt.tight_layout(pad=0)\n",
    "    plt.imshow(wordcloud, interpolation='bilinear')\n",
    "    plt.axis(\"off\")\n",
    "    plt.title(champion,fontsize=15)\n",
    "    plt.show()"
   ]
  },
  {
   "cell_type": "markdown",
   "id": "7db9fab6",
   "metadata": {
    "cell_id": "00082-065f5d99-b141-483c-a468-7248da714ed2",
    "deepnote_app_coordinates": {
     "h": 5,
     "w": 12,
     "x": 0,
     "y": 492
    },
    "deepnote_cell_type": "markdown"
   },
   "source": [
    "__Findings__"
   ]
  },
  {
   "cell_type": "markdown",
   "id": "b24371a5",
   "metadata": {
    "cell_id": "00083-4e9084fb-e2e9-4b6b-a906-f87c65d15f9d",
    "deepnote_app_coordinates": {
     "h": 5,
     "w": 12,
     "x": 0,
     "y": 498
    },
    "deepnote_cell_type": "markdown",
    "tags": []
   },
   "source": [
    "## Discussion\n",
    "\n",
    "__What went well?__\n",
    "\n",
    "Friends it is a network that was worth investigating using scientific methods like sentiment analysis and degree centrality, \n",
    "which some new insights into the Friends universe. The sentiment values found have helped categorize the characters as being positive, neutral or negative. Moreover this has also helped us study the relationships in the show as well as the evolution of the sentiment trought the seasons. The ANOVA analysis has helped us conclude that no significant effect of the directors of the show exists on the imdb score. \n",
    "\n",
    "The data retrivial using regex and the storing of preprocessed data in csv has also worked well. The csv files was easy to use in the Streamlit website.\n",
    "\n",
    "\n",
    "__What can be improved?__\n",
    "\n",
    "* Altough the sentiment anaylsis - which represented a central tool for this project has proven to be useful and helped us get new insights - there is more that can be investigated. Given that Friends is a sitcom, and some of the magic of the show lies in the sarcastic dialogue of the characters, using machine learning to identify sarcasm could have been a great addition to the project. \n",
    "\n",
    "* Moreover, even though the superfans would strongly disagree with this, there are many communities on the internet that are not so fond of the Friends show and that consider that some of the scenes and jokes have not aged well, as the world is going towards a more progressive and inclusive direction. Thereby by extracting data from Twitter for example one could analyze what is the sentiment among young people who are currently watching the show versus the older generation. \n",
    "\n",
    "* A sentiment evolution of the main characters over time would have also been useful in investigating why certain relationships faded off like Monica and Richard and some others blossomed like Phoebe and Mike. \n",
    "\n",
    "* In conclusion there are endless possibilities for analyses that can help get new insights into the show and can potentially be used as reference for current shows that whish to maintain their popularity in the future. For this however more time and knowledge is needed in order to carry meaningful analyses. "
   ]
  },
  {
   "cell_type": "markdown",
   "id": "9d8e65d0",
   "metadata": {
    "cell_id": "00084-c079b671-6dbb-4f60-a034-5fc5ec6da4a8",
    "deepnote_app_coordinates": {
     "h": 5,
     "w": 12,
     "x": 0,
     "y": 504
    },
    "deepnote_cell_type": "markdown",
    "tags": []
   },
   "source": [
    "## Contributions\n",
    "\n",
    "\n",
    "* Project Assignment A:\n",
    "\n",
    "-  _Viktor_ : Video Production\n",
    "- _Basic Stats_ : Mihaela \n",
    "-  _Project Plan_ : Jacob \n",
    "\n",
    "Project Assignment B:\n",
    "\n",
    "* Analyses:\n",
    "\n",
    " - _Mihaela:_ Analysis 1, Analysis 2, Analysis 3, Analysis 4.\n",
    " - _Jacob_: TF-IDF and Wordclouds\n",
    "\n",
    "* Data:\n",
    "\n",
    "- _Jacob_ : Data retrieval, Data Cleaning and Data Processing.\n",
    "- _Mihaela_ : Data Processing - small part. \n",
    "\n",
    "* Website: \n",
    "\n",
    "- _Jacob_ : Website Setup, ForceAtlas graph, Wordclouds, Data Story. \n",
    "- _Mihaela_: Sentiment graphs, Degree and betweenness centrality graphs, Data Story. \n",
    "- _Viktor_: Interractive Network Visualizations, Data Story. \n",
    "\n",
    "* Report Writing:\n",
    "\n",
    "- _Mihaela_: Motivation, Analyses, Conclusion\n",
    "- Jacob : Data Gathering and Processing, Network Statistics \n"
   ]
  },
  {
   "cell_type": "markdown",
   "id": "fde12b93",
   "metadata": {},
   "source": [
    "<a id='6.'></a>\n",
    "## References\n",
    "\n",
    "1. http://networksciencebook.com/\n",
    "2. https://towardsdatascience.com/sentimental-analysis-using-vader-a3415fef7664#:~:text=VADER%20sentimental%20analysis%20relies%20on,each%20word%20in%20the%20text.\n",
    "3. https://www.statisticshowto.com/probability-and-statistics/hypothesis-testing/anova/\n",
    "4. https://statistics.laerd.com/statistical-guides/one-way-anova-statistical-guide.php\n",
    "5. https://neo4j.com/docs/graph-data-science/current/algorithms/betweenness-centrality/#:~:text=Betweenness%20centrality%20is%20a%20way,of%20nodes%20in%20a%20graph.\n",
    "6. https://en.wikipedia.org/wiki/Centrality"
   ]
  },
  {
   "cell_type": "markdown",
   "id": "567ecd3e",
   "metadata": {
    "cell_id": "00085-19b7cb3c-d5e5-4f79-b175-bf91c4311933",
    "deepnote_app_coordinates": {
     "h": 5,
     "w": 12,
     "x": 0,
     "y": 0
    },
    "deepnote_cell_type": "markdown",
    "tags": []
   },
   "source": []
  },
  {
   "cell_type": "markdown",
   "id": "93d0ff2b",
   "metadata": {
    "created_in_deepnote_cell": true,
    "deepnote_cell_type": "markdown",
    "tags": []
   },
   "source": [
    "<a style='text-decoration:none;line-height:16px;display:flex;color:#5B5B62;padding:10px;justify-content:end;' href='https://deepnote.com?utm_source=created-in-deepnote-cell&projectId=aee39066-d006-4842-a0e1-46c68e5ff786' target=\"_blank\">\n",
    "<img alt='Created in deepnote.com' style='display:inline;max-height:16px;margin:0px;margin-right:7.5px;' src='data:image/svg+xml;base64,PD94bWwgdmVyc2lvbj0iMS4wIiBlbmNvZGluZz0iVVRGLTgiPz4KPHN2ZyB3aWR0aD0iODBweCIgaGVpZ2h0PSI4MHB4IiB2aWV3Qm94PSIwIDAgODAgODAiIHZlcnNpb249IjEuMSIgeG1sbnM9Imh0dHA6Ly93d3cudzMub3JnLzIwMDAvc3ZnIiB4bWxuczp4bGluaz0iaHR0cDovL3d3dy53My5vcmcvMTk5OS94bGluayI+CiAgICA8IS0tIEdlbmVyYXRvcjogU2tldGNoIDU0LjEgKDc2NDkwKSAtIGh0dHBzOi8vc2tldGNoYXBwLmNvbSAtLT4KICAgIDx0aXRsZT5Hcm91cCAzPC90aXRsZT4KICAgIDxkZXNjPkNyZWF0ZWQgd2l0aCBTa2V0Y2guPC9kZXNjPgogICAgPGcgaWQ9IkxhbmRpbmciIHN0cm9rZT0ibm9uZSIgc3Ryb2tlLXdpZHRoPSIxIiBmaWxsPSJub25lIiBmaWxsLXJ1bGU9ImV2ZW5vZGQiPgogICAgICAgIDxnIGlkPSJBcnRib2FyZCIgdHJhbnNmb3JtPSJ0cmFuc2xhdGUoLTEyMzUuMDAwMDAwLCAtNzkuMDAwMDAwKSI+CiAgICAgICAgICAgIDxnIGlkPSJHcm91cC0zIiB0cmFuc2Zvcm09InRyYW5zbGF0ZSgxMjM1LjAwMDAwMCwgNzkuMDAwMDAwKSI+CiAgICAgICAgICAgICAgICA8cG9seWdvbiBpZD0iUGF0aC0yMCIgZmlsbD0iIzAyNjVCNCIgcG9pbnRzPSIyLjM3NjIzNzYyIDgwIDM4LjA0NzY2NjcgODAgNTcuODIxNzgyMiA3My44MDU3NTkyIDU3LjgyMTc4MjIgMzIuNzU5MjczOSAzOS4xNDAyMjc4IDMxLjY4MzE2ODMiPjwvcG9seWdvbj4KICAgICAgICAgICAgICAgIDxwYXRoIGQ9Ik0zNS4wMDc3MTgsODAgQzQyLjkwNjIwMDcsNzYuNDU0OTM1OCA0Ny41NjQ5MTY3LDcxLjU0MjI2NzEgNDguOTgzODY2LDY1LjI2MTk5MzkgQzUxLjExMjI4OTksNTUuODQxNTg0MiA0MS42NzcxNzk1LDQ5LjIxMjIyODQgMjUuNjIzOTg0Niw0OS4yMTIyMjg0IEMyNS40ODQ5Mjg5LDQ5LjEyNjg0NDggMjkuODI2MTI5Niw0My4yODM4MjQ4IDM4LjY0NzU4NjksMzEuNjgzMTY4MyBMNzIuODcxMjg3MSwzMi41NTQ0MjUgTDY1LjI4MDk3Myw2Ny42NzYzNDIxIEw1MS4xMTIyODk5LDc3LjM3NjE0NCBMMzUuMDA3NzE4LDgwIFoiIGlkPSJQYXRoLTIyIiBmaWxsPSIjMDAyODY4Ij48L3BhdGg+CiAgICAgICAgICAgICAgICA8cGF0aCBkPSJNMCwzNy43MzA0NDA1IEwyNy4xMTQ1MzcsMC4yNTcxMTE0MzYgQzYyLjM3MTUxMjMsLTEuOTkwNzE3MDEgODAsMTAuNTAwMzkyNyA4MCwzNy43MzA0NDA1IEM4MCw2NC45NjA0ODgyIDY0Ljc3NjUwMzgsNzkuMDUwMzQxNCAzNC4zMjk1MTEzLDgwIEM0Ny4wNTUzNDg5LDc3LjU2NzA4MDggNTMuNDE4MjY3Nyw3MC4zMTM2MTAzIDUzLjQxODI2NzcsNTguMjM5NTg4NSBDNTMuNDE4MjY3Nyw0MC4xMjg1NTU3IDM2LjMwMzk1NDQsMzcuNzMwNDQwNSAyNS4yMjc0MTcsMzcuNzMwNDQwNSBDMTcuODQzMDU4NiwzNy43MzA0NDA1IDkuNDMzOTE5NjYsMzcuNzMwNDQwNSAwLDM3LjczMDQ0MDUgWiIgaWQ9IlBhdGgtMTkiIGZpbGw9IiMzNzkzRUYiPjwvcGF0aD4KICAgICAgICAgICAgPC9nPgogICAgICAgIDwvZz4KICAgIDwvZz4KPC9zdmc+' > </img>\n",
    "Created in <span style='font-weight:600;margin-left:4px;'>Deepnote</span></a>"
   ]
  }
 ],
 "metadata": {
  "deepnote": {},
  "deepnote_app_layout": "article",
  "deepnote_execution_queue": [],
  "deepnote_notebook_id": "8e58310f-03aa-418c-8624-cf522f78dad3",
  "kernelspec": {
   "display_name": "Python 3 (ipykernel)",
   "language": "python",
   "name": "python3"
  },
  "language_info": {
   "codemirror_mode": {
    "name": "ipython",
    "version": 3
   },
   "file_extension": ".py",
   "mimetype": "text/x-python",
   "name": "python",
   "nbconvert_exporter": "python",
   "pygments_lexer": "ipython3",
   "version": "3.7.11"
  }
 },
 "nbformat": 4,
 "nbformat_minor": 5
}
